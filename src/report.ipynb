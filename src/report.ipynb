{
 "metadata": {
  "language_info": {
   "codemirror_mode": {
    "name": "ipython",
    "version": 3
   },
   "file_extension": ".py",
   "mimetype": "text/x-python",
   "name": "python",
   "nbconvert_exporter": "python",
   "pygments_lexer": "ipython3",
   "version": "3.8.6"
  },
  "orig_nbformat": 2,
  "kernelspec": {
   "name": "iml-term-project",
   "display_name": "Python 3.8.6 64-bit ('iml-term-project-VNmOTpJK': pipenv)"
  }
 },
 "nbformat": 4,
 "nbformat_minor": 2,
 "cells": [
  {
   "source": [
    "# Introduction\n",
    "\n",
    "In this project the task was to predict whether the news source is a reputable media or an opinionated source (headlines taken from news articles that were deemed false by politifact) by only seeing the headline of an artice. The training data was composed of headlines from Reuters being classified as reputable and headlines from opinionated sources that were deemed false by Politifact. Two different preprocessing techniques were used on the headlines and multiple machine learning models were trained with the preprocessed headlines to see if the classification was possible within reasonable accuracy.\n",
    "\n",
    "# Data exploration\n",
    "\n",
    "To get an understanding how well the machine learning models could realistically classify the data, some exploratory data analysis was done. \n",
    "\n"
   ],
   "cell_type": "markdown",
   "metadata": {}
  },
  {
   "source": [
    "# Results\n",
    "\n",
    "## Baseline\n",
    "\n",
    "As the task was to classify whether or not a title of a news article came from a credible source, the accuracy of the models should not be bellow $0.5$ as we might as well just randomly guess the outcome and achieve, on average, better results. Through out the model traning process, a three-fold cross-validation was used to estimate the model accuracy by taking the mean of the validation scores. To get a hint on how well the classification performs, a **logistic regression** model was used as a baseline classifier. It gained a mean cross-validation accuracy of $0.77015$ and test accyracy of $0.77622$ on Kaggle.\n",
    "\n",
    "## \n",
    "\n",
    "# Conclusions\n",
    "\n",
    "It can be seen from the results that the data preprocessing methods have a great impact on performance in NLP classification problems. Only by changing the preprocessing method from BOW to LDA, albeit being quite a bit more sophisticated, the logistic regression model's mean cross-validtaion accuracy went from $0.77$ to $0.86$.\n"
   ],
   "cell_type": "markdown",
   "metadata": {}
  }
 ]
}